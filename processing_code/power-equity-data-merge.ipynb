{
 "cells": [
  {
   "cell_type": "code",
   "id": "initial_id",
   "metadata": {
    "collapsed": true,
    "ExecuteTime": {
     "end_time": "2025-01-19T13:06:29.719439Z",
     "start_time": "2025-01-19T13:06:29.716642Z"
    }
   },
   "source": "import pandas as pd",
   "outputs": [],
   "execution_count": 2
  },
  {
   "metadata": {
    "ExecuteTime": {
     "end_time": "2025-01-19T13:21:35.528792Z",
     "start_time": "2025-01-19T13:21:35.519106Z"
    }
   },
   "cell_type": "code",
   "source": [
    "# Load Dataset 1\n",
    "df1 = pd.read_csv('data/weekly_prices_mean.csv', parse_dates=['date'], dayfirst=True)\n",
    "\n",
    "# Load Dataset 2\n",
    "df2 = pd.read_csv('data/eur_pow_demand.csv', parse_dates=['Date'])"
   ],
   "id": "76d090e5b0226bb2",
   "outputs": [
    {
     "name": "stderr",
     "output_type": "stream",
     "text": [
      "C:\\Users\\Jupiter\\AppData\\Local\\Temp\\ipykernel_36360\\3651699096.py:2: UserWarning: Parsing dates in %Y-%m-%d format when dayfirst=True was specified. Pass `dayfirst=False` or specify a format to silence this warning.\n",
      "  df1 = pd.read_csv('data/weekly_prices_mean.csv', parse_dates=['date'], dayfirst=True)\n"
     ]
    }
   ],
   "execution_count": 38
  },
  {
   "metadata": {
    "ExecuteTime": {
     "end_time": "2025-01-19T13:21:37.107253Z",
     "start_time": "2025-01-19T13:21:37.098174Z"
    }
   },
   "cell_type": "code",
   "source": [
    "### Set Date Columns as Index ###\n",
    "\n",
    "# For Dataset 1\n",
    "df1.set_index('date', inplace=True)\n",
    "\n",
    "# For Dataset 2\n",
    "df2.set_index('Date', inplace=True)"
   ],
   "id": "cc21ac1589869101",
   "outputs": [
    {
     "ename": "KeyError",
     "evalue": "\"None of ['date'] are in the columns\"",
     "output_type": "error",
     "traceback": [
      "\u001B[1;31m---------------------------------------------------------------------------\u001B[0m",
      "\u001B[1;31mKeyError\u001B[0m                                  Traceback (most recent call last)",
      "\u001B[1;32m~\\AppData\\Local\\Temp\\ipykernel_36360\\3804039593.py\u001B[0m in \u001B[0;36m?\u001B[1;34m()\u001B[0m\n\u001B[0;32m      1\u001B[0m \u001B[1;31m### Set Date Columns as Index ###\u001B[0m\u001B[1;33m\u001B[0m\u001B[1;33m\u001B[0m\u001B[0m\n\u001B[0;32m      2\u001B[0m \u001B[1;33m\u001B[0m\u001B[0m\n\u001B[0;32m      3\u001B[0m \u001B[1;31m# For Dataset 1\u001B[0m\u001B[1;33m\u001B[0m\u001B[1;33m\u001B[0m\u001B[0m\n\u001B[1;32m----> 4\u001B[1;33m \u001B[0mdf1\u001B[0m\u001B[1;33m.\u001B[0m\u001B[0mset_index\u001B[0m\u001B[1;33m(\u001B[0m\u001B[1;34m'date'\u001B[0m\u001B[1;33m,\u001B[0m \u001B[0minplace\u001B[0m\u001B[1;33m=\u001B[0m\u001B[1;32mTrue\u001B[0m\u001B[1;33m)\u001B[0m\u001B[1;33m\u001B[0m\u001B[1;33m\u001B[0m\u001B[0m\n\u001B[0m\u001B[0;32m      5\u001B[0m \u001B[1;33m\u001B[0m\u001B[0m\n\u001B[0;32m      6\u001B[0m \u001B[1;31m# For Dataset 2\u001B[0m\u001B[1;33m\u001B[0m\u001B[1;33m\u001B[0m\u001B[0m\n\u001B[0;32m      7\u001B[0m \u001B[0mdf2\u001B[0m\u001B[1;33m.\u001B[0m\u001B[0mset_index\u001B[0m\u001B[1;33m(\u001B[0m\u001B[1;34m'Date'\u001B[0m\u001B[1;33m,\u001B[0m \u001B[0minplace\u001B[0m\u001B[1;33m=\u001B[0m\u001B[1;32mTrue\u001B[0m\u001B[1;33m)\u001B[0m\u001B[1;33m\u001B[0m\u001B[1;33m\u001B[0m\u001B[0m\n",
      "\u001B[1;32m~\\anaconda3\\Lib\\site-packages\\pandas\\core\\frame.py\u001B[0m in \u001B[0;36m?\u001B[1;34m(self, keys, drop, append, inplace, verify_integrity)\u001B[0m\n\u001B[0;32m   6118\u001B[0m                     \u001B[1;32mif\u001B[0m \u001B[1;32mnot\u001B[0m \u001B[0mfound\u001B[0m\u001B[1;33m:\u001B[0m\u001B[1;33m\u001B[0m\u001B[1;33m\u001B[0m\u001B[0m\n\u001B[0;32m   6119\u001B[0m                         \u001B[0mmissing\u001B[0m\u001B[1;33m.\u001B[0m\u001B[0mappend\u001B[0m\u001B[1;33m(\u001B[0m\u001B[0mcol\u001B[0m\u001B[1;33m)\u001B[0m\u001B[1;33m\u001B[0m\u001B[1;33m\u001B[0m\u001B[0m\n\u001B[0;32m   6120\u001B[0m \u001B[1;33m\u001B[0m\u001B[0m\n\u001B[0;32m   6121\u001B[0m         \u001B[1;32mif\u001B[0m \u001B[0mmissing\u001B[0m\u001B[1;33m:\u001B[0m\u001B[1;33m\u001B[0m\u001B[1;33m\u001B[0m\u001B[0m\n\u001B[1;32m-> 6122\u001B[1;33m             \u001B[1;32mraise\u001B[0m \u001B[0mKeyError\u001B[0m\u001B[1;33m(\u001B[0m\u001B[1;33mf\"\u001B[0m\u001B[1;33mNone of \u001B[0m\u001B[1;33m{\u001B[0m\u001B[0mmissing\u001B[0m\u001B[1;33m}\u001B[0m\u001B[1;33m are in the columns\u001B[0m\u001B[1;33m\"\u001B[0m\u001B[1;33m)\u001B[0m\u001B[1;33m\u001B[0m\u001B[1;33m\u001B[0m\u001B[0m\n\u001B[0m\u001B[0;32m   6123\u001B[0m \u001B[1;33m\u001B[0m\u001B[0m\n\u001B[0;32m   6124\u001B[0m         \u001B[1;32mif\u001B[0m \u001B[0minplace\u001B[0m\u001B[1;33m:\u001B[0m\u001B[1;33m\u001B[0m\u001B[1;33m\u001B[0m\u001B[0m\n\u001B[0;32m   6125\u001B[0m             \u001B[0mframe\u001B[0m \u001B[1;33m=\u001B[0m \u001B[0mself\u001B[0m\u001B[1;33m\u001B[0m\u001B[1;33m\u001B[0m\u001B[0m\n",
      "\u001B[1;31mKeyError\u001B[0m: \"None of ['date'] are in the columns\""
     ]
    }
   ],
   "execution_count": 40
  },
  {
   "metadata": {
    "ExecuteTime": {
     "end_time": "2025-01-19T13:21:39.105456Z",
     "start_time": "2025-01-19T13:21:39.089404Z"
    }
   },
   "cell_type": "code",
   "source": [
    "# Resample Dataset 1 to weekly frequency ending on Sunday\n",
    "df1 = df1.resample('W-SUN').last()\n",
    "df1.index.name = 'date'\n",
    "\n",
    "# Resample Dataset 2 to weekly frequency ending on Sunday\n",
    "df2 = df2.resample('W-SUN').last()\n",
    "df2.index.name = 'date'\n",
    "\n",
    "# Remove timezone information from Dataset 2\n",
    "df2.index = df2.index.tz_localize(None)"
   ],
   "id": "4251101bb7faedc1",
   "outputs": [],
   "execution_count": 41
  },
  {
   "metadata": {
    "ExecuteTime": {
     "end_time": "2025-01-19T13:21:40.381862Z",
     "start_time": "2025-01-19T13:21:40.378539Z"
    }
   },
   "cell_type": "code",
   "source": [
    "# Rename Dataset 2 columns by adding 'pow_dem_' prefix\n",
    "df2 = df2.add_prefix('pow_dem_')\n",
    "\n",
    "# Verify the renamed columns\n",
    "print(\"\\nDataset 2 Columns after Renaming:\")\n",
    "print(df2.columns)"
   ],
   "id": "a9291cea5df27fd1",
   "outputs": [
    {
     "name": "stdout",
     "output_type": "stream",
     "text": [
      "\n",
      "Dataset 2 Columns after Renaming:\n",
      "Index(['pow_dem_AUT', 'pow_dem_BEL', 'pow_dem_BGR', 'pow_dem_CHE',\n",
      "       'pow_dem_CZE', 'pow_dem_DEU', 'pow_dem_DNK', 'pow_dem_ESP',\n",
      "       'pow_dem_EST', 'pow_dem_FIN', 'pow_dem_FRA', 'pow_dem_GBR',\n",
      "       'pow_dem_GRC', 'pow_dem_HRV', 'pow_dem_HUN', 'pow_dem_ITA',\n",
      "       'pow_dem_LTU', 'pow_dem_LUX', 'pow_dem_LVA', 'pow_dem_MNE',\n",
      "       'pow_dem_NLD', 'pow_dem_NOR', 'pow_dem_POL', 'pow_dem_PRT',\n",
      "       'pow_dem_ROU', 'pow_dem_SVK', 'pow_dem_SVN', 'pow_dem_SWE'],\n",
      "      dtype='object')\n"
     ]
    }
   ],
   "execution_count": 42
  },
  {
   "metadata": {
    "ExecuteTime": {
     "end_time": "2025-01-19T13:21:42.198686Z",
     "start_time": "2025-01-19T13:21:42.193758Z"
    }
   },
   "cell_type": "code",
   "source": [
    "# Merge the datasets on the date index\n",
    "merged_df = pd.merge(df1, df2, left_index=True, right_index=True, how='inner')\n",
    "\n",
    "# Drop rows with any missing values\n",
    "merged_df = merged_df.dropna()\n",
    "\n",
    "# Reset the index to convert the date index into a column\n",
    "merged_df = merged_df.reset_index()\n",
    "\n",
    "# No need to rename since the index was named 'date'\n",
    "# But verify the column names\n",
    "print(\"\\nMerged DataFrame Columns:\")\n",
    "print(merged_df.columns)"
   ],
   "id": "9f34b3ac1e20db64",
   "outputs": [
    {
     "name": "stdout",
     "output_type": "stream",
     "text": [
      "\n",
      "Merged DataFrame Columns:\n",
      "Index(['date', 'eu_ets', 'brent_crude', 'euronext100', 'ngh', 'rot_coal',\n",
      "       'pow_dem_AUT', 'pow_dem_BEL', 'pow_dem_BGR', 'pow_dem_CHE',\n",
      "       'pow_dem_CZE', 'pow_dem_DEU', 'pow_dem_DNK', 'pow_dem_ESP',\n",
      "       'pow_dem_EST', 'pow_dem_FIN', 'pow_dem_FRA', 'pow_dem_GBR',\n",
      "       'pow_dem_GRC', 'pow_dem_HRV', 'pow_dem_HUN', 'pow_dem_ITA',\n",
      "       'pow_dem_LTU', 'pow_dem_LUX', 'pow_dem_LVA', 'pow_dem_MNE',\n",
      "       'pow_dem_NLD', 'pow_dem_NOR', 'pow_dem_POL', 'pow_dem_PRT',\n",
      "       'pow_dem_ROU', 'pow_dem_SVK', 'pow_dem_SVN', 'pow_dem_SWE'],\n",
      "      dtype='object')\n"
     ]
    }
   ],
   "execution_count": 43
  },
  {
   "metadata": {
    "ExecuteTime": {
     "end_time": "2025-01-19T13:24:09.763322Z",
     "start_time": "2025-01-19T13:24:09.750207Z"
    }
   },
   "cell_type": "code",
   "source": "merged_df.to_csv('equity_energy_weekly.csv', index=False)",
   "id": "235ebd17af76f633",
   "outputs": [],
   "execution_count": 46
  },
  {
   "metadata": {
    "ExecuteTime": {
     "end_time": "2025-01-19T13:21:46.473039Z",
     "start_time": "2025-01-19T13:21:46.470221Z"
    }
   },
   "cell_type": "code",
   "source": "",
   "id": "cdee1901d59a6195",
   "outputs": [
    {
     "name": "stdout",
     "output_type": "stream",
     "text": [
      "\n",
      "Merged DataFrame Columns:\n",
      "Index(['date', 'eu_ets', 'brent_crude', 'euronext100', 'ngh', 'rot_coal',\n",
      "       'pow_dem_AUT', 'pow_dem_BEL', 'pow_dem_BGR', 'pow_dem_CHE',\n",
      "       'pow_dem_CZE', 'pow_dem_DEU', 'pow_dem_DNK', 'pow_dem_ESP',\n",
      "       'pow_dem_EST', 'pow_dem_FIN', 'pow_dem_FRA', 'pow_dem_GBR',\n",
      "       'pow_dem_GRC', 'pow_dem_HRV', 'pow_dem_HUN', 'pow_dem_ITA',\n",
      "       'pow_dem_LTU', 'pow_dem_LUX', 'pow_dem_LVA', 'pow_dem_MNE',\n",
      "       'pow_dem_NLD', 'pow_dem_NOR', 'pow_dem_POL', 'pow_dem_PRT',\n",
      "       'pow_dem_ROU', 'pow_dem_SVK', 'pow_dem_SVN', 'pow_dem_SWE'],\n",
      "      dtype='object')\n"
     ]
    }
   ],
   "execution_count": 45
  }
 ],
 "metadata": {
  "kernelspec": {
   "display_name": "Python 3",
   "language": "python",
   "name": "python3"
  },
  "language_info": {
   "codemirror_mode": {
    "name": "ipython",
    "version": 2
   },
   "file_extension": ".py",
   "mimetype": "text/x-python",
   "name": "python",
   "nbconvert_exporter": "python",
   "pygments_lexer": "ipython2",
   "version": "2.7.6"
  }
 },
 "nbformat": 4,
 "nbformat_minor": 5
}
