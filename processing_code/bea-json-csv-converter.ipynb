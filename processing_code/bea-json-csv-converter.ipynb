{
 "cells": [
  {
   "cell_type": "code",
   "id": "initial_id",
   "metadata": {
    "collapsed": true,
    "ExecuteTime": {
     "end_time": "2025-01-18T19:50:59.320066Z",
     "start_time": "2025-01-18T19:50:58.727797Z"
    }
   },
   "source": [
    "import pandas as pd\n",
    "import json"
   ],
   "outputs": [],
   "execution_count": 1
  },
  {
   "metadata": {
    "ExecuteTime": {
     "end_time": "2025-01-18T19:51:01.379924Z",
     "start_time": "2025-01-18T19:51:01.376102Z"
    }
   },
   "cell_type": "code",
   "source": [
    "# Read the JSONP data from the file\n",
    "with open('data/ngh25.json', 'r', encoding='utf-8') as file:\n",
    "    json_str = file.read()"
   ],
   "id": "5cc45fa3f90e09e0",
   "outputs": [],
   "execution_count": 2
  },
  {
   "metadata": {
    "ExecuteTime": {
     "end_time": "2025-01-18T19:51:53.527704Z",
     "start_time": "2025-01-18T19:51:53.523758Z"
    }
   },
   "cell_type": "code",
   "source": [
    "# Parse the JSON string\n",
    "data = json.loads(json_str)\n",
    "\n",
    "# Extract the 'rows' data\n",
    "rows = data.get('rows', [])\n",
    "\n",
    "# Convert to DataFrame\n",
    "df = pd.DataFrame(rows)\n"
   ],
   "id": "5c9f5d52c2c297a0",
   "outputs": [],
   "execution_count": 11
  },
  {
   "metadata": {
    "ExecuteTime": {
     "end_time": "2025-01-18T19:51:55.611686Z",
     "start_time": "2025-01-18T19:51:55.608120Z"
    }
   },
   "cell_type": "code",
   "source": [
    "print(f\"Type of data: {type(data)}\")\n",
    "if isinstance(data, list):\n",
    "    print(f\"First element type in list: {type(data[0])}\")\n",
    "    print(f\"First element content: {data[0]}\")\n",
    "elif isinstance(data, dict):\n",
    "    print(f\"Keys in data: {data.keys()}\")\n",
    "    print(f\"Sample 'rows' data: {data.get('rows', [])[:1]}\")"
   ],
   "id": "7b34ea6165bf0931",
   "outputs": [
    {
     "name": "stdout",
     "output_type": "stream",
     "text": [
      "Type of data: <class 'dict'>\n",
      "Keys in data: dict_keys(['count', 'total', 'data', 'meta', 'errors'])\n",
      "Sample 'rows' data: []\n"
     ]
    }
   ],
   "execution_count": 12
  },
  {
   "metadata": {
    "ExecuteTime": {
     "end_time": "2025-01-18T19:52:02.176886Z",
     "start_time": "2025-01-18T19:52:02.173719Z"
    }
   },
   "cell_type": "code",
   "source": [
    "# Proceed based on the type of data\n",
    "if isinstance(data, dict):\n",
    "    # Extract the 'rows' data\n",
    "    rows = data.get('rows', [])\n",
    "elif isinstance(data, list):\n",
    "    # Assuming the list itself is the 'rows' data\n",
    "    rows = data\n",
    "else:\n",
    "    raise TypeError(f\"Unexpected JSON structure: {type(data)}\")"
   ],
   "id": "e712303d0c230c57",
   "outputs": [],
   "execution_count": 13
  },
  {
   "metadata": {
    "ExecuteTime": {
     "end_time": "2025-01-18T19:51:45.987660Z",
     "start_time": "2025-01-18T19:51:45.984986Z"
    }
   },
   "cell_type": "code",
   "source": [
    "# Convert to DataFrame\n",
    "df = pd.DataFrame(rows)"
   ],
   "id": "b2b60d34667e1cda",
   "outputs": [],
   "execution_count": 9
  },
  {
   "metadata": {
    "ExecuteTime": {
     "end_time": "2025-01-18T19:51:46.834722Z",
     "start_time": "2025-01-18T19:51:46.829895Z"
    }
   },
   "cell_type": "code",
   "source": "pd.DataFrame.head(df)",
   "id": "67a4ae514b3baf3a",
   "outputs": [
    {
     "data": {
      "text/plain": [
       "Empty DataFrame\n",
       "Columns: []\n",
       "Index: []"
      ],
      "text/html": [
       "<div>\n",
       "<style scoped>\n",
       "    .dataframe tbody tr th:only-of-type {\n",
       "        vertical-align: middle;\n",
       "    }\n",
       "\n",
       "    .dataframe tbody tr th {\n",
       "        vertical-align: top;\n",
       "    }\n",
       "\n",
       "    .dataframe thead th {\n",
       "        text-align: right;\n",
       "    }\n",
       "</style>\n",
       "<table border=\"1\" class=\"dataframe\">\n",
       "  <thead>\n",
       "    <tr style=\"text-align: right;\">\n",
       "      <th></th>\n",
       "    </tr>\n",
       "  </thead>\n",
       "  <tbody>\n",
       "  </tbody>\n",
       "</table>\n",
       "</div>"
      ]
     },
     "execution_count": 10,
     "metadata": {},
     "output_type": "execute_result"
    }
   ],
   "execution_count": 10
  },
  {
   "metadata": {
    "ExecuteTime": {
     "end_time": "2025-01-17T15:35:47.344123Z",
     "start_time": "2025-01-17T15:35:47.332157Z"
    }
   },
   "cell_type": "code",
   "source": [
    "# Save to CSV\n",
    "df.to_csv('data/bea.csv', index=False, encoding='utf-8-sig')"
   ],
   "id": "eff011245484e0dc",
   "outputs": [],
   "execution_count": 21
  }
 ],
 "metadata": {
  "kernelspec": {
   "display_name": "Python 3",
   "language": "python",
   "name": "python3"
  },
  "language_info": {
   "codemirror_mode": {
    "name": "ipython",
    "version": 2
   },
   "file_extension": ".py",
   "mimetype": "text/x-python",
   "name": "python",
   "nbconvert_exporter": "python",
   "pygments_lexer": "ipython2",
   "version": "2.7.6"
  }
 },
 "nbformat": 4,
 "nbformat_minor": 5
}
