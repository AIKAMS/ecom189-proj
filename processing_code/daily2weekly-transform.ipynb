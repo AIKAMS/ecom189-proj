{
 "cells": [
  {
   "cell_type": "code",
   "id": "initial_id",
   "metadata": {
    "collapsed": true,
    "ExecuteTime": {
     "end_time": "2025-01-19T12:54:40.556979Z",
     "start_time": "2025-01-19T12:54:40.554607Z"
    }
   },
   "source": "import pandas as pd",
   "outputs": [],
   "execution_count": 1
  },
  {
   "metadata": {
    "ExecuteTime": {
     "end_time": "2025-01-19T12:58:42.782229Z",
     "start_time": "2025-01-19T12:58:42.764406Z"
    }
   },
   "cell_type": "code",
   "source": [
    "# Read the CSV file\n",
    "df = pd.read_csv('data/189_clean_data_v2.csv', parse_dates=['date'], dayfirst=True)\n",
    "\n",
    "# Display the first few rows to verify\n",
    "print(df.head())\n",
    "\n",
    "# Check data types\n",
    "print(df.dtypes)"
   ],
   "id": "1abed9d103d5a19a",
   "outputs": [
    {
     "name": "stdout",
     "output_type": "stream",
     "text": [
      "        date  eu_ets  brent_crude  euronext100    ngh  rot_coal\n",
      "0 2005-04-22   16.85        53.51       681.70  7.269       NaN\n",
      "1 2005-04-25   17.45        53.10       683.62  7.216       NaN\n",
      "2 2005-04-26   17.15        52.47       682.90  7.181       NaN\n",
      "3 2005-04-27   16.35        51.29       671.70  6.800       NaN\n",
      "4 2005-04-28   15.95        50.74       668.14  6.748       NaN\n",
      "date           datetime64[ns]\n",
      "eu_ets                float64\n",
      "brent_crude           float64\n",
      "euronext100           float64\n",
      "ngh                   float64\n",
      "rot_coal              float64\n",
      "dtype: object\n"
     ]
    }
   ],
   "execution_count": 7
  },
  {
   "metadata": {
    "ExecuteTime": {
     "end_time": "2025-01-19T12:55:16.399913Z",
     "start_time": "2025-01-19T12:55:16.394309Z"
    }
   },
   "cell_type": "code",
   "source": [
    "# Set the 'date' column as the index\n",
    "df.set_index('date', inplace=True)\n",
    "\n",
    "# Verify the DataFrame\n",
    "print(df.head())"
   ],
   "id": "947a2abf27a5b87e",
   "outputs": [
    {
     "name": "stdout",
     "output_type": "stream",
     "text": [
      "            eu_ets  brent_crude  euronext100    ngh  rot_coal\n",
      "date                                                         \n",
      "2005-04-22   16.85        53.51       681.70  7.269       NaN\n",
      "2005-04-25   17.45        53.10       683.62  7.216       NaN\n",
      "2005-04-26   17.15        52.47       682.90  7.181       NaN\n",
      "2005-04-27   16.35        51.29       671.70  6.800       NaN\n",
      "2005-04-28   15.95        50.74       668.14  6.748       NaN\n"
     ]
    }
   ],
   "execution_count": 3
  },
  {
   "metadata": {
    "ExecuteTime": {
     "end_time": "2025-01-19T12:56:23.714278Z",
     "start_time": "2025-01-19T12:56:23.694773Z"
    }
   },
   "cell_type": "code",
   "source": [
    "# Get the mean value of each week\n",
    "weekly_mean = df.resample('W-MON').mean()\n",
    "\n",
    "weekly_mean.to_csv('weekly_prices_mean.csv')"
   ],
   "id": "e227058ad32fdcec",
   "outputs": [],
   "execution_count": 6
  },
  {
   "metadata": {
    "ExecuteTime": {
     "end_time": "2025-01-19T12:59:01.699742Z",
     "start_time": "2025-01-19T12:59:01.696604Z"
    }
   },
   "cell_type": "code",
   "source": "",
   "id": "73cb68aead7b39b9",
   "outputs": [
    {
     "name": "stdout",
     "output_type": "stream",
     "text": [
      "eu_ets         float64\n",
      "brent_crude    float64\n",
      "euronext100    float64\n",
      "ngh            float64\n",
      "rot_coal       float64\n",
      "dtype: object\n"
     ]
    }
   ],
   "execution_count": 8
  }
 ],
 "metadata": {
  "kernelspec": {
   "display_name": "Python 3",
   "language": "python",
   "name": "python3"
  },
  "language_info": {
   "codemirror_mode": {
    "name": "ipython",
    "version": 2
   },
   "file_extension": ".py",
   "mimetype": "text/x-python",
   "name": "python",
   "nbconvert_exporter": "python",
   "pygments_lexer": "ipython2",
   "version": "2.7.6"
  }
 },
 "nbformat": 4,
 "nbformat_minor": 5
}
