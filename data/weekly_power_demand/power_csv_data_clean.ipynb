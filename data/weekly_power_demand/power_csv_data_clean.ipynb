{
 "cells": [
  {
   "cell_type": "code",
   "id": "initial_id",
   "metadata": {
    "collapsed": true,
    "ExecuteTime": {
     "end_time": "2025-01-19T10:37:37.695191Z",
     "start_time": "2025-01-19T10:37:37.692554Z"
    }
   },
   "source": [
    "import pandas as pd\n",
    "import glob\n",
    "import os"
   ],
   "outputs": [],
   "execution_count": 4
  },
  {
   "metadata": {
    "ExecuteTime": {
     "end_time": "2025-01-19T10:50:21.393611Z",
     "start_time": "2025-01-19T10:50:21.388707Z"
    }
   },
   "cell_type": "code",
   "source": [
    "def combine_csv_values(input_directory, output_file):\n",
    "    \"\"\"\n",
    "    Combines the 'Value' columns from multiple CSV files into a single CSV file.\n",
    "\n",
    "    Parameters:\n",
    "    - input_directory: str, path to the directory containing input CSV files.\n",
    "    - output_file: str, path for the output combined CSV file.\n",
    "    \"\"\"\n",
    "\n",
    "    # Initialize an empty DataFrame\n",
    "    combined_df = pd.DataFrame()\n",
    "\n",
    "    # Get list of all CSV files in the directory\n",
    "    csv_files = glob.glob(os.path.join(input_directory, '*.csv'))\n",
    "\n",
    "    if not csv_files:\n",
    "        print(f\"No CSV files found in the directory: {input_directory}\")\n",
    "        return\n",
    "\n",
    "    for file in csv_files:\n",
    "        try:\n",
    "            # Read the CSV file\n",
    "            df = pd.read_csv(file)\n",
    "\n",
    "            # Ensure the necessary columns exist\n",
    "            required_columns = {'ISO3', 'Value', 'Date'}\n",
    "            if not required_columns.issubset(df.columns):\n",
    "                print(f\"Skipping file '{file}' due to missing columns.\")\n",
    "                continue\n",
    "\n",
    "            # Get the ISO3 code (assuming it's the same for all rows)\n",
    "            iso3 = df['ISO3'].iloc[0]\n",
    "\n",
    "            # Select Date and Value columns\n",
    "            df_subset = df[['Date', 'Value']].copy()\n",
    "\n",
    "            # Convert Date to datetime if not already\n",
    "            df_subset['Date'] = pd.to_datetime(df_subset['Date'])\n",
    "\n",
    "            # Convert Value to float, coercing errors to NaN\n",
    "            df_subset['Value'] = pd.to_numeric(df_subset['Value'], errors='coerce')\n",
    "\n",
    "            # Set Date as index\n",
    "            df_subset.set_index('Date', inplace=True)\n",
    "\n",
    "            # Rename the Value column to ISO3 code\n",
    "            df_subset.rename(columns={'Value': iso3}, inplace=True)\n",
    "\n",
    "            # Merge with the combined DataFrame\n",
    "            if combined_df.empty:\n",
    "                combined_df = df_subset\n",
    "            else:\n",
    "                combined_df = combined_df.join(df_subset, how='outer')\n",
    "\n",
    "        except Exception as e:\n",
    "            print(f\"Error processing file '{file}': {e}\")\n",
    "            continue\n",
    "\n",
    "    if combined_df.empty:\n",
    "        print(\"No data to combine.\")\n",
    "        return\n",
    "\n",
    "    # Sort by Date\n",
    "    combined_df.sort_index(inplace=True)\n",
    "\n",
    "    # Reset index to have Date as a column\n",
    "    combined_df.reset_index(inplace=True)\n",
    "\n",
    "    # Optional: Rename 'index' to 'Date' if necessary\n",
    "    combined_df.rename(columns={'index': 'Date'}, inplace=True)\n",
    "\n",
    "    # Save to CSV\n",
    "    try:\n",
    "        # Define float format\n",
    "        float_format = '%.6f'\n",
    "\n",
    "        combined_df.to_csv(output_file, index=False, float_format=float_format)\n",
    "        print(f\"Combined CSV saved to '{output_file}'\")\n",
    "    except Exception as e:\n",
    "        print(f\"Failed to save the combined CSV: {e}\")"
   ],
   "id": "4c1fcc6193552de5",
   "outputs": [],
   "execution_count": 17
  },
  {
   "metadata": {
    "ExecuteTime": {
     "end_time": "2025-01-19T10:54:24.415793Z",
     "start_time": "2025-01-19T10:54:24.320576Z"
    }
   },
   "cell_type": "code",
   "source": [
    "# Convert all CSV files in main directory\n",
    "if __name__ == \"__main__\":\n",
    "    # Specify the directory containing CSV files\n",
    "    input_dir = ''\n",
    "\n",
    "    # Specify the output file path\n",
    "    output_csv = 'combined_values.csv'\n",
    "\n",
    "    combine_csv_values(input_dir, output_csv)"
   ],
   "id": "667cd190b06ba576",
   "outputs": [
    {
     "name": "stdout",
     "output_type": "stream",
     "text": [
      "Skipping file 'combined_values.csv' due to missing columns.\n",
      "Combined CSV saved to 'combined_values.csv'\n"
     ]
    }
   ],
   "execution_count": 23
  }
 ],
 "metadata": {
  "kernelspec": {
   "display_name": "Python 3",
   "language": "python",
   "name": "python3"
  },
  "language_info": {
   "codemirror_mode": {
    "name": "ipython",
    "version": 2
   },
   "file_extension": ".py",
   "mimetype": "text/x-python",
   "name": "python",
   "nbconvert_exporter": "python",
   "pygments_lexer": "ipython2",
   "version": "2.7.6"
  }
 },
 "nbformat": 4,
 "nbformat_minor": 5
}
